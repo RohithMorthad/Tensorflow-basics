{
 "cells": [
  {
   "cell_type": "code",
   "execution_count": 1,
   "metadata": {
    "colab": {
     "base_uri": "https://localhost:8080/",
     "height": 34
    },
    "colab_type": "code",
    "id": "FZkwI-U2htpO",
    "outputId": "159810de-6c36-4b6b-9048-2883522ec2fb"
   },
   "outputs": [
    {
     "name": "stderr",
     "output_type": "stream",
     "text": [
      "/home/rajesh/.local/lib/python3.6/site-packages/tensorflow/python/framework/dtypes.py:516: FutureWarning: Passing (type, 1) or '1type' as a synonym of type is deprecated; in a future version of numpy, it will be understood as (type, (1,)) / '(1,)type'.\n",
      "  _np_qint8 = np.dtype([(\"qint8\", np.int8, 1)])\n",
      "/home/rajesh/.local/lib/python3.6/site-packages/tensorflow/python/framework/dtypes.py:517: FutureWarning: Passing (type, 1) or '1type' as a synonym of type is deprecated; in a future version of numpy, it will be understood as (type, (1,)) / '(1,)type'.\n",
      "  _np_quint8 = np.dtype([(\"quint8\", np.uint8, 1)])\n",
      "/home/rajesh/.local/lib/python3.6/site-packages/tensorflow/python/framework/dtypes.py:518: FutureWarning: Passing (type, 1) or '1type' as a synonym of type is deprecated; in a future version of numpy, it will be understood as (type, (1,)) / '(1,)type'.\n",
      "  _np_qint16 = np.dtype([(\"qint16\", np.int16, 1)])\n",
      "/home/rajesh/.local/lib/python3.6/site-packages/tensorflow/python/framework/dtypes.py:519: FutureWarning: Passing (type, 1) or '1type' as a synonym of type is deprecated; in a future version of numpy, it will be understood as (type, (1,)) / '(1,)type'.\n",
      "  _np_quint16 = np.dtype([(\"quint16\", np.uint16, 1)])\n",
      "/home/rajesh/.local/lib/python3.6/site-packages/tensorflow/python/framework/dtypes.py:520: FutureWarning: Passing (type, 1) or '1type' as a synonym of type is deprecated; in a future version of numpy, it will be understood as (type, (1,)) / '(1,)type'.\n",
      "  _np_qint32 = np.dtype([(\"qint32\", np.int32, 1)])\n",
      "/home/rajesh/.local/lib/python3.6/site-packages/tensorflow/python/framework/dtypes.py:525: FutureWarning: Passing (type, 1) or '1type' as a synonym of type is deprecated; in a future version of numpy, it will be understood as (type, (1,)) / '(1,)type'.\n",
      "  np_resource = np.dtype([(\"resource\", np.ubyte, 1)])\n",
      "/home/rajesh/.local/lib/python3.6/site-packages/tensorboard/compat/tensorflow_stub/dtypes.py:541: FutureWarning: Passing (type, 1) or '1type' as a synonym of type is deprecated; in a future version of numpy, it will be understood as (type, (1,)) / '(1,)type'.\n",
      "  _np_qint8 = np.dtype([(\"qint8\", np.int8, 1)])\n",
      "/home/rajesh/.local/lib/python3.6/site-packages/tensorboard/compat/tensorflow_stub/dtypes.py:542: FutureWarning: Passing (type, 1) or '1type' as a synonym of type is deprecated; in a future version of numpy, it will be understood as (type, (1,)) / '(1,)type'.\n",
      "  _np_quint8 = np.dtype([(\"quint8\", np.uint8, 1)])\n",
      "/home/rajesh/.local/lib/python3.6/site-packages/tensorboard/compat/tensorflow_stub/dtypes.py:543: FutureWarning: Passing (type, 1) or '1type' as a synonym of type is deprecated; in a future version of numpy, it will be understood as (type, (1,)) / '(1,)type'.\n",
      "  _np_qint16 = np.dtype([(\"qint16\", np.int16, 1)])\n",
      "/home/rajesh/.local/lib/python3.6/site-packages/tensorboard/compat/tensorflow_stub/dtypes.py:544: FutureWarning: Passing (type, 1) or '1type' as a synonym of type is deprecated; in a future version of numpy, it will be understood as (type, (1,)) / '(1,)type'.\n",
      "  _np_quint16 = np.dtype([(\"quint16\", np.uint16, 1)])\n",
      "/home/rajesh/.local/lib/python3.6/site-packages/tensorboard/compat/tensorflow_stub/dtypes.py:545: FutureWarning: Passing (type, 1) or '1type' as a synonym of type is deprecated; in a future version of numpy, it will be understood as (type, (1,)) / '(1,)type'.\n",
      "  _np_qint32 = np.dtype([(\"qint32\", np.int32, 1)])\n",
      "/home/rajesh/.local/lib/python3.6/site-packages/tensorboard/compat/tensorflow_stub/dtypes.py:550: FutureWarning: Passing (type, 1) or '1type' as a synonym of type is deprecated; in a future version of numpy, it will be understood as (type, (1,)) / '(1,)type'.\n",
      "  np_resource = np.dtype([(\"resource\", np.ubyte, 1)])\n"
     ]
    },
    {
     "name": "stdout",
     "output_type": "stream",
     "text": [
      "6.0\n"
     ]
    }
   ],
   "source": [
    "import tensorflow as tf\n",
    "import numpy as np\n",
    "import matplotlib.pyplot as plt\n",
    "\n",
    "\n",
    "a=tf.constant(30)\n",
    "b=tf.constant(5)\n",
    "c=tf.divide(a,b)\n",
    "sess=tf.Session()\n",
    "print(sess.run(c))"
   ]
  },
  {
   "cell_type": "code",
   "execution_count": 3,
   "metadata": {
    "colab": {
     "base_uri": "https://localhost:8080/",
     "height": 34
    },
    "colab_type": "code",
    "id": "ss7KxR0Pk51E",
    "outputId": "96f94718-a3ce-4954-faae-79cd1dd1230b"
   },
   "outputs": [
    {
     "name": "stdout",
     "output_type": "stream",
     "text": [
      "[21 23 25 27 29 31 33 35 37 39]\n"
     ]
    }
   ],
   "source": [
    "ab=tf.add(np.arange(10),np.arange(21,31))\n",
    "ses=tf.Session()\n",
    "print(ses.run(ab))\n",
    "ses.close()"
   ]
  },
  {
   "cell_type": "markdown",
   "metadata": {
    "colab_type": "text",
    "id": "rAG_5FF2tI_U"
   },
   "source": []
  },
  {
   "cell_type": "markdown",
   "metadata": {
    "colab_type": "text",
    "id": "0reptdGXmV_l"
   },
   "source": []
  },
  {
   "cell_type": "code",
   "execution_count": 6,
   "metadata": {
    "colab": {
     "base_uri": "https://localhost:8080/",
     "height": 34
    },
    "colab_type": "code",
    "id": "--LsF8H9lfh7",
    "outputId": "0909e5e6-5c05-4470-f639-671653d52c9c"
   },
   "outputs": [
    {
     "name": "stdout",
     "output_type": "stream",
     "text": [
      "[  21  731  489   67 -120]\n"
     ]
    }
   ],
   "source": [
    "ab=tf.subtract([23,765,543,832,3], [2,34,54,765,123])\n",
    "se=tf.Session()\n",
    "print(se.run(ab))"
   ]
  },
  {
   "cell_type": "code",
   "execution_count": 35,
   "metadata": {
    "colab": {
     "base_uri": "https://localhost:8080/",
     "height": 34
    },
    "colab_type": "code",
    "id": "7VEpCpwMmiA6",
    "outputId": "2e5ded3b-222b-4086-ce8f-2d1807efadab"
   },
   "outputs": [
    {
     "name": "stdout",
     "output_type": "stream",
     "text": [
      "[25 37 34]\n"
     ]
    }
   ],
   "source": [
    "with tf.Session() as sess:\n",
    "  s=tf.add([2,3,12],[23,34,22])\n",
    "  print(sess.run(s))\n"
   ]
  },
  {
   "cell_type": "code",
   "execution_count": 73,
   "metadata": {
    "colab": {
     "base_uri": "https://localhost:8080/",
     "height": 68
    },
    "colab_type": "code",
    "id": "2kmH7RYHoOzL",
    "outputId": "2d9cec4d-42e7-4ab8-eaf6-a9d97827f302"
   },
   "outputs": [
    {
     "name": "stdout",
     "output_type": "stream",
     "text": [
      "4\n",
      "7\n",
      "10\n"
     ]
    }
   ],
   "source": [
    "x=tf.Variable(1)\n",
    "y=tf.constant(3)\n",
    "  \n",
    "new =tf.add(x,y)\n",
    "upd=tf.assign(x,new)\n",
    "  \n",
    "intia=tf.initialize_all_variables()\n",
    "\n",
    "with tf.Session() as ses:\n",
    "  ses.run(intia)\n",
    "  #print(ses.run(new))\n",
    "  \n",
    "  for i in range(3):\n",
    "  \n",
    "    print(ses.run(upd))"
   ]
  },
  {
   "cell_type": "code",
   "execution_count": 66,
   "metadata": {
    "colab": {
     "base_uri": "https://localhost:8080/",
     "height": 187
    },
    "colab_type": "code",
    "id": "nQzwMOr_rwAb",
    "outputId": "c358f0fe-991f-47b7-ae81-d8fa511e4dee"
   },
   "outputs": [
    {
     "name": "stdout",
     "output_type": "stream",
     "text": [
      "2\n",
      "3\n",
      "4\n",
      "5\n",
      "6\n",
      "7\n",
      "8\n",
      "9\n",
      "10\n",
      "11\n"
     ]
    }
   ],
   "source": [
    "x = tf.Variable(-1)\n",
    "y = tf.constant(1)\n",
    "\n",
    "add = tf.add(x, y)\n",
    "update = tf.assign(x, add)\n",
    "\n",
    "init = tf.global_variables_initializer()\n",
    "\n",
    "with tf.Session() as sess:\n",
    "  sess.run(init)\n",
    "  for i in range(10):\n",
    "    print(sess.run(update))"
   ]
  },
  {
   "cell_type": "code",
   "execution_count": 0,
   "metadata": {
    "colab": {},
    "colab_type": "code",
    "id": "KGlMYGZPz2xT"
   },
   "outputs": [],
   "source": []
  },
  {
   "cell_type": "code",
   "execution_count": 82,
   "metadata": {
    "colab": {
     "base_uri": "https://localhost:8080/",
     "height": 34
    },
    "colab_type": "code",
    "id": "od1Nxvm04lIQ",
    "outputId": "23cdbcaf-4ba8-4827-c15d-6fd1877c412a"
   },
   "outputs": [
    {
     "name": "stdout",
     "output_type": "stream",
     "text": [
      "10\n"
     ]
    }
   ],
   "source": [
    "a = tf.placeholder(tf.int16)\n",
    "\n",
    "b = a*5\n",
    "with tf.Session() as sess:\n",
    "  print(sess.run(b,feed_dict={a:2}))"
   ]
  },
  {
   "cell_type": "code",
   "execution_count": 110,
   "metadata": {
    "colab": {
     "base_uri": "https://localhost:8080/",
     "height": 34
    },
    "colab_type": "code",
    "id": "m2yTodra49Kk",
    "outputId": "050622ae-539b-4c8a-fc70-1a6db3d80eaa"
   },
   "outputs": [
    {
     "name": "stdout",
     "output_type": "stream",
     "text": [
      "[0 1 2 3 4 5 6 7 8 9]\n"
     ]
    }
   ],
   "source": [
    "a = 10*(tf.placeholder(tf.int16))\n",
    "b = np.arange(10)\n",
    "\n",
    "\n",
    "with tf.Session() as sess:\n",
    "  print(sess.run(a,feed_dict={a:b}))"
   ]
  },
  {
   "cell_type": "code",
   "execution_count": 0,
   "metadata": {
    "colab": {},
    "colab_type": "code",
    "id": "kz8CCVDK6Q5S"
   },
   "outputs": [],
   "source": []
  },
  {
   "cell_type": "code",
   "execution_count": 0,
   "metadata": {
    "colab": {},
    "colab_type": "code",
    "id": "9_ypU2VmT_vq"
   },
   "outputs": [],
   "source": [
    "linear regression using tensorflow.."
   ]
  },
  {
   "cell_type": "code",
   "execution_count": 146,
   "metadata": {
    "colab": {
     "base_uri": "https://localhost:8080/",
     "height": 456
    },
    "colab_type": "code",
    "id": "xxFlyXwmLco6",
    "outputId": "d38bdc4b-2256-4972-a7e3-d7dbcce57a67"
   },
   "outputs": [
    {
     "name": "stdout",
     "output_type": "stream",
     "text": [
      "0 [1.9406041, 1.8830447]\n",
      "10 [2.47079, 2.2836003]\n",
      "20 [2.6383212, 2.1938217]\n",
      "30 [2.752817, 2.1324642]\n",
      "40 [2.831067, 2.0905304]\n",
      "50 [2.884546, 2.061871]\n",
      "60 [2.9210951, 2.0422847]\n",
      "70 [2.946074, 2.0288987]\n",
      "80 [2.9631453, 2.01975]\n",
      "90 [2.9748123, 2.013498]\n"
     ]
    },
    {
     "data": {
      "text/plain": [
       "[<matplotlib.lines.Line2D at 0x7f9d3b0d2320>]"
      ]
     },
     "execution_count": 146,
     "metadata": {
      "tags": []
     },
     "output_type": "execute_result"
    },
    {
     "data": {
      "image/png": "[encoded data removed]",
      "text/plain": [
       "<Figure size 432x288 with 1 Axes>"
      ]
     },
     "metadata": {
      "tags": []
     },
     "output_type": "display_data"
    }
   ],
   "source": [
    "xdata = np.random.rand(100).astype(np.float32)\n",
    "\n",
    "#y=mx+c\n",
    "\n",
    "ydata = 3 * xdata + 2   #actual y values\n",
    "\n",
    "m = tf.Variable(1.0)\n",
    "c = tf.Variable(0.2)\n",
    "\n",
    "y = m * xdata + c         #predicted y values\n",
    "\n",
    "loss = tf.reduce_mean(tf.square(y-ydata))\n",
    "\n",
    "optimiser = tf.train.GradientDescentOptimizer(0.3)\n",
    "train = optimiser.minimize(loss)\n",
    "\n",
    "init = tf.global_variables_initializer()\n",
    "sess = tf.Session()\n",
    "sess.run(init)\n",
    "\n",
    "train_data=[]\n",
    "for item in range (100):\n",
    "  evals = sess.run([train,m,c])[1:]\n",
    "  if item %10 == 0:\n",
    "    print(item,evals)\n",
    "    train_data.append(evals)\n",
    "\n",
    "plt.plot(xdata,ydata,'ro')"
   ]
  },
  {
   "cell_type": "code",
   "execution_count": 0,
   "metadata": {
    "colab": {},
    "colab_type": "code",
    "id": "6O6OjFqLLqGt"
   },
   "outputs": [],
   "source": []
  },
  {
   "cell_type": "code",
   "execution_count": 0,
   "metadata": {
    "colab": {},
    "colab_type": "code",
    "id": "tGRLJzCqUG54"
   },
   "outputs": [],
   "source": [
    "linear regression(2) using tensorflow...."
   ]
  },
  {
   "cell_type": "code",
   "execution_count": 167,
   "metadata": {
    "colab": {
     "base_uri": "https://localhost:8080/",
     "height": 371
    },
    "colab_type": "code",
    "id": "Z3dwd2iCaCcF",
    "outputId": "800ec525-6026-4c24-9cd9-6caeedc7cebb"
   },
   "outputs": [
    {
     "name": "stdout",
     "output_type": "stream",
     "text": [
      "0 [-0.080000184, 0.13999993]\n",
      "1 [2.0000002, 0.94800013]\n",
      "2 [-1.5584005, -0.23120016]\n",
      "3 [4.3667207, 1.9080005]\n",
      "4 [-5.63981, -1.5485765]\n"
     ]
    },
    {
     "data": {
      "text/plain": [
       "[<matplotlib.lines.Line2D at 0x7f9d3a407828>]"
      ]
     },
     "execution_count": 167,
     "metadata": {
      "tags": []
     },
     "output_type": "execute_result"
    },
    {
     "data": {
      "image/png": "[encoded data removed]",
      "text/plain": [
       "<Figure size 432x288 with 1 Axes>"
      ]
     },
     "metadata": {
      "tags": []
     },
     "output_type": "display_data"
    }
   ],
   "source": [
    "xdata = np.arange(5).astype(np.float32)\n",
    "\n",
    "#y=mx+c\n",
    "\n",
    "ydata = 0.5 * xdata + 1   #actual y values\n",
    "\n",
    "m = tf.Variable(1.2)\n",
    "c = tf.Variable(0.5)\n",
    "\n",
    "y = m * xdata + c         #predicted y values\n",
    "\n",
    "loss = tf.reduce_mean(tf.square(y-ydata)) #finding MSE(mean squared error)\n",
    "                                          #optimising m and c\n",
    "\n",
    "optimiser = tf.train.GradientDescentOptimizer(0.2) #with learning rate=0.2india\n",
    "\n",
    "train = optimiser.minimize(loss)\n",
    "\n",
    "init = tf.global_variables_initializer()\n",
    "sess = tf.Session()\n",
    "sess.run(init)\n",
    "\n",
    "train_data=[]\n",
    "for item in range (5):\n",
    "  evals = sess.run([train,m,c])[1:]\n",
    "  if item %1 == 0:\n",
    "    print(item,evals)\n",
    "    train_data.append(evals)\n",
    "\n",
    "plt.plot(ydata,'ro')"
   ]
  },
  {
   "cell_type": "code",
   "execution_count": 0,
   "metadata": {
    "colab": {},
    "colab_type": "code",
    "id": "5iYjSu8gUF_j"
   },
   "outputs": [],
   "source": []
  }
 ],
 "metadata": {
  "colab": {
   "collapsed_sections": [],
   "name": "Untitled0.ipynb",
   "provenance": []
  },
  "kernelspec": {
   "display_name": "Python 3",
   "language": "python",
   "name": "python3"
  },
  "language_info": {
   "codemirror_mode": {
    "name": "ipython",
    "version": 3
   },
   "file_extension": ".py",
   "mimetype": "text/x-python",
   "name": "python",
   "nbconvert_exporter": "python",
   "pygments_lexer": "ipython3",
   "version": "3.6.8"
  }
 },
 "nbformat": 4,
 "nbformat_minor": 1
}
